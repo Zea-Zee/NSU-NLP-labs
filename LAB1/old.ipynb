{
 "cells": [
  {
   "cell_type": "code",
   "execution_count": 1,
   "metadata": {
    "id": "wP42GJrqdO7v"
   },
   "outputs": [],
   "source": [
    "from typing import List, Tuple"
   ]
  },
  {
   "cell_type": "code",
   "execution_count": 2,
   "metadata": {
    "id": "xeVQ_Pk3b0ve"
   },
   "outputs": [
    {
     "name": "stderr",
     "output_type": "stream",
     "text": [
      "c:\\Users\\kuzga\\OneDrive\\Рабочий стол\\NSU-NLP-labs\\.venv\\Lib\\site-packages\\tqdm\\auto.py:21: TqdmWarning: IProgress not found. Please update jupyter and ipywidgets. See https://ipywidgets.readthedocs.io/en/stable/user_install.html\n",
      "  from .autonotebook import tqdm as notebook_tqdm\n"
     ]
    }
   ],
   "source": [
    "import numpy as np\n",
    "from sklearn.feature_extraction.text import TfidfVectorizer\n",
    "from sklearn.linear_model import LogisticRegression\n",
    "from sklearn.metrics import classification_report\n",
    "from sklearn.model_selection import GridSearchCV\n",
    "from sklearn.pipeline import Pipeline\n",
    "import spacy\n",
    "from datasets import load_dataset"
   ]
  },
  {
   "cell_type": "code",
   "execution_count": 3,
   "metadata": {
    "id": "sqxpYOORb9iM"
   },
   "outputs": [],
   "source": [
    "# def load_sib200_ru() -> Tuple[Tuple[List[str], List[int]], Tuple[List[str], List[int]], Tuple[List[str], List[int]], List[str]]:\n",
    "#     trainset = load_dataset('Davlan/sib200', 'rus_Cyrl', split='train')\n",
    "#     X_train = trainset['text']\n",
    "#     y_train = trainset['category']\n",
    "#     valset = load_dataset('Davlan/sib200', 'rus_Cyrl', split='validation')\n",
    "#     X_val = valset['text']\n",
    "#     y_val = valset['category']\n",
    "#     testset = load_dataset('Davlan/sib200', 'rus_Cyrl', split='test')\n",
    "#     X_test = testset['text']\n",
    "#     y_test = testset['category']\n",
    "#     categories = set(y_train)\n",
    "#     unknown_categories = set(y_val) - categories\n",
    "#     if len(unknown_categories) > 0:\n",
    "#         err_msg = f'The categories {unknown_categories} are represented in the validation set, but they are not represented in the training set.'\n",
    "#         raise RuntimeError(err_msg)\n",
    "#     unknown_categories = set(y_test) - categories\n",
    "#     if len(unknown_categories) > 0:\n",
    "#         err_msg = f'The categories {unknown_categories} are represented in the test set, but they are not represented in the training set.'\n",
    "#         raise RuntimeError(err_msg)\n",
    "#     categories = sorted(list(categories))\n",
    "#     y_train = [categories.index(it) for it in y_train]\n",
    "#     y_val = [categories.index(it) for it in y_val]\n",
    "#     y_test = [categories.index(it) for it in y_test]\n",
    "#     return (X_train, y_train), (X_val, y_val), (X_test, y_test), categories"
   ]
  },
  {
   "cell_type": "code",
   "execution_count": 4,
   "metadata": {},
   "outputs": [],
   "source": [
    "def load_sib200_ru() -> Tuple[Tuple[List[str], List[int]], Tuple[List[str], List[int]], List[str]]:\n",
    "    # Загружаем тренировочный и валидационный наборы данных\n",
    "    trainset = load_dataset('Davlan/sib200', 'rus_Cyrl', split='train')\n",
    "    valset = load_dataset('Davlan/sib200', 'rus_Cyrl', split='validation')\n",
    "    testset = load_dataset('Davlan/sib200', 'rus_Cyrl', split='test')\n",
    "\n",
    "    # Извлекаем текст и категории\n",
    "    X_train = trainset['text']\n",
    "    y_train = trainset['category']\n",
    "    X_val = valset['text']\n",
    "    y_val = valset['category']\n",
    "    X_test = testset['text']\n",
    "    y_test = testset['category']\n",
    "\n",
    "    # Объединяем данные из train и val\n",
    "    X_train = X_train + X_val\n",
    "    y_train = y_train + y_val\n",
    "\n",
    "    # Проверяем наличие неизвестных категорий\n",
    "    categories = set(y_train)\n",
    "    unknown_categories = set(y_test) - categories\n",
    "    if len(unknown_categories) > 0:\n",
    "        err_msg = f'The categories {unknown_categories} are represented in the test set, but they are not represented in the training set.'\n",
    "        raise RuntimeError(err_msg)\n",
    "\n",
    "    # Индексируем категории\n",
    "    categories = sorted(list(categories))\n",
    "    y_train = [categories.index(it) for it in y_train]\n",
    "    y_test = [categories.index(it) for it in y_test]\n",
    "\n",
    "    return (X_train, y_train), (X_test, y_test), categories"
   ]
  },
  {
   "cell_type": "code",
   "execution_count": 5,
   "metadata": {
    "id": "0cFArJDFdvT6"
   },
   "outputs": [],
   "source": [
    "def normalize_text(s: str, nlp_pipeline: spacy.Language) -> str:\n",
    "    doc = nlp_pipeline(s)\n",
    "    lemmas = [('<NUM>' if token.like_num else token.lemma_.lower()) for token in filter(lambda it1: not it1.is_punct, doc)]\n",
    "    if len(lemmas) == 0:\n",
    "        return ''\n",
    "    return ' '.join(lemmas)"
   ]
  },
  {
   "cell_type": "code",
   "execution_count": 6,
   "metadata": {
    "colab": {
     "base_uri": "https://localhost:8080/"
    },
    "id": "Uo8KuNe9kX_H",
    "outputId": "52d3b096-ac46-4cba-9c3f-4cfb58f71e32"
   },
   "outputs": [],
   "source": [
    "train_data, test_data, classes_list = load_sib200_ru()"
   ]
  },
  {
   "cell_type": "code",
   "execution_count": 7,
   "metadata": {
    "colab": {
     "base_uri": "https://localhost:8080/"
    },
    "id": "bVIr5afvzWut",
    "outputId": "4b8db3bf-d373-48da-c82a-c43dbf923449"
   },
   "outputs": [
    {
     "name": "stdout",
     "output_type": "stream",
     "text": [
      "Categories: ['entertainment', 'geography', 'health', 'politics', 'science/technology', 'sports', 'travel']\n"
     ]
    }
   ],
   "source": [
    "print(f'Categories: {classes_list}')"
   ]
  },
  {
   "cell_type": "code",
   "execution_count": 8,
   "metadata": {
    "colab": {
     "base_uri": "https://localhost:8080/"
    },
    "id": "5U-LEbKKsTaJ",
    "outputId": "fe7a80b3-2569-41cd-ab67-7c5c4a05b22d"
   },
   "outputs": [
    {
     "name": "stdout",
     "output_type": "stream",
     "text": [
      "800\n",
      "204\n"
     ]
    }
   ],
   "source": [
    "print(len(train_data[0]))\n",
    "print(len(test_data[0]))"
   ]
  },
  {
   "cell_type": "code",
   "execution_count": 9,
   "metadata": {
    "id": "0mENTDYFl7bz"
   },
   "outputs": [],
   "source": [
    "nlp = spacy.load('ru_core_news_lg')"
   ]
  },
  {
   "cell_type": "code",
   "execution_count": 10,
   "metadata": {
    "colab": {
     "base_uri": "https://localhost:8080/"
    },
    "id": "0t1cuaqHoPQ6",
    "outputId": "6f5c428c-4e7f-4a44-fcd8-b911e0f8aaf9"
   },
   "outputs": [
    {
     "name": "stdout",
     "output_type": "stream",
     "text": [
      "Турция с трёх сторон окружена морями: на западе — Эгейским, на севере — Чёрным и на юге — Средиземным.\n",
      "турция с <NUM> сторона окружить море на запад эгейский на север чёрным и на юг средиземный\n",
      "Мутация вносит новую генетическую вариацию, в то время как отбор убирает её из набора проявляющихся вариаций.\n",
      "мутация вносить новый генетический вариация в тот время как отбор убирать её из набор проявляться вариация\n"
     ]
    }
   ],
   "source": [
    "print(train_data[0][0])\n",
    "print(normalize_text(train_data[0][0], nlp))\n",
    "\n",
    "print(test_data[0][0])\n",
    "print(normalize_text(test_data[0][0], nlp))"
   ]
  },
  {
   "cell_type": "code",
   "execution_count": 16,
   "metadata": {},
   "outputs": [],
   "source": [
    "from sklearn.model_selection import train_test_split\n",
    "\n",
    "\n",
    "X = [normalize_text(it, nlp) for it in train_data[0]]\n",
    "y = train_data[1]\n",
    "X_train, X_test, y_train, y_test = train_test_split(X, y, test_size=0.2, random_state=42)\n",
    "\n",
    "vectorizer = TfidfVectorizer(token_pattern='\\w+', max_df=0.99, min_df=1)\n",
    "X_train_vec = vectorizer.fit_transform(X_train)\n",
    "X_test_vec = vectorizer.transform(X_test)"
   ]
  },
  {
   "cell_type": "code",
   "execution_count": 17,
   "metadata": {
    "id": "OSCmrKkUir99"
   },
   "outputs": [],
   "source": [
    "from sklearn.model_selection import GridSearchCV\n",
    "from sklearn.linear_model import LogisticRegression\n",
    "from sklearn.ensemble import RandomForestClassifier, AdaBoostClassifier\n",
    "from sklearn.gaussian_process import GaussianProcessClassifier\n",
    "from sklearn.naive_bayes import GaussianNB\n",
    "from sklearn.neighbors import KNeighborsClassifier\n",
    "from sklearn.svm import SVC\n",
    "from sklearn.tree import DecisionTreeClassifier\n",
    "from sklearn.metrics import accuracy_score, roc_auc_score, f1_score\n",
    "from sklearn.neural_network import MLPClassifier\n",
    "\n",
    "models = {\n",
    "    'MLPClassifier': MLPClassifier(),\n",
    "    'LogisticRegression': LogisticRegression(),\n",
    "    # 'RandomForestClassifier': RandomForestClassifier(),\n",
    "    # 'AdaBoostClassifier': AdaBoostClassifier(),\n",
    "    # 'KNeighborsClassifier': KNeighborsClassifier(),\n",
    "    # 'SVC': SVC(),\n",
    "    # 'DecisionTreeClassifier': DecisionTreeClassifier(),\n",
    "}\n",
    "\n",
    "param_grids = {\n",
    "    'LogisticRegression': {\n",
    "        'C': [100, 500, 1000, 1500],  # Regularization strength\n",
    "        'penalty': ['l1', 'l2', 'elasticnet'],  # Type of regularization\n",
    "        'solver': ['liblinear', 'lbfgs', 'sag', 'saga'],  # Solver to use\n",
    "        'max_iter': [100, 200],  # Maximum number of iterations\n",
    "    },\n",
    "    'RandomForestClassifier': {\n",
    "        'n_estimators': [50, 75, 100, 200],\n",
    "        'max_depth': [None, 2, 5, 10, 15],\n",
    "        'min_samples_split': [2, 5, 7],\n",
    "        'min_samples_leaf': [1, 2, 3]\n",
    "    },\n",
    "    'AdaBoostClassifier': {\n",
    "        'n_estimators': [50, 75, 100, 150],\n",
    "        'learning_rate': [0.075, 0.1, 1]\n",
    "    },\n",
    "    'GaussianProcessClassifier': {'max_iter_predict': [100, 200]},\n",
    "    'GaussianNB': {},\n",
    "    'KNeighborsClassifier': {\n",
    "        'n_neighbors': [2, 3, 5, 7, 10],\n",
    "        'weights': ['uniform', 'distance'],\n",
    "        'algorithm': ['auto', 'ball_tree', 'kd_tree', 'brute']\n",
    "    },\n",
    "    'SVC': {\n",
    "        'C': [0.1, 1, 10, 100],\n",
    "        'kernel': ['linear', 'rbf', 'poly'],\n",
    "        'gamma': ['scale', 'auto']\n",
    "    },\n",
    "    'DecisionTreeClassifier': {\n",
    "        'max_depth': [None, 5, 10, 15, 20],\n",
    "        'min_samples_split': [2, 5, 10],\n",
    "        'min_samples_leaf': [1, 2, 4]\n",
    "    },\n",
    "    'MLPClassifier': {\n",
    "        'hidden_layer_sizes': [(50)],  # Размеры скрытых слоев\n",
    "        'activation': ['logistic'],  # Функции активации\n",
    "        'alpha': [0.01],  # Регуляризация L2\n",
    "        'learning_rate_init': [0.01],  # Начальная скорость обучения\n",
    "        'max_iter': [500],  # Максимальное количество итераций\n",
    "        'early_stopping': [True],  # Включение ранней остановки\n",
    "        'validation_fraction': [0.2],  # Процент валидационной выборки\n",
    "        'n_iter_no_change': [20]  # Количество эпох без улучшений для остановки\n",
    "    }\n",
    "}\n",
    "\n",
    "\n",
    "logistic_param_options = [\n",
    "    {'penalty': ['l1'], 'solver': ['liblinear']},\n",
    "    {'penalty': ['l2'], 'solver': ['lbfgs', 'sag', 'saga']},\n",
    "    {'penalty': ['elasticnet'], 'solver': ['saga']},\n",
    "]\n",
    "\n",
    "# Создаем полный список параметров для LogisticRegression\n",
    "full_logistic_param_grid = []\n",
    "for options in logistic_param_options:\n",
    "    full_logistic_param_grid.append({**options, **param_grids['LogisticRegression']})\n",
    "\n",
    "# Заменяем параметры LogisticRegression в param_grids на полный список\n",
    "param_grids['LogisticRegression'] = full_logistic_param_grid"
   ]
  },
  {
   "cell_type": "code",
   "execution_count": 18,
   "metadata": {},
   "outputs": [],
   "source": [
    "import warnings\n",
    "warnings.filterwarnings(\"ignore\")"
   ]
  },
  {
   "cell_type": "code",
   "execution_count": 19,
   "metadata": {},
   "outputs": [
    {
     "name": "stdout",
     "output_type": "stream",
     "text": [
      "Лучшие параметры для MLPClassifier: {'activation': 'logistic', 'alpha': 0.01, 'early_stopping': True, 'hidden_layer_sizes': 50, 'learning_rate_init': 0.01, 'max_iter': 500, 'n_iter_no_change': 20, 'validation_fraction': 0.2}\n",
      "f-1 для MLPClassifier: 0.5806 Accuracy: 0.6000\n",
      "Лучшие параметры для LogisticRegression: {'C': 1500, 'max_iter': 200, 'penalty': 'l2', 'solver': 'saga'}\n",
      "f-1 для LogisticRegression: 0.6407 Accuracy: 0.6438\n",
      "Лучшая модель: LogisticRegression с Accuracy 0.6438 и f1 0.6407\n"
     ]
    }
   ],
   "source": [
    "best_models = {}\n",
    "for model_name, model in models.items():\n",
    "    grid_search = GridSearchCV(\n",
    "        estimator=model,\n",
    "        param_grid=param_grids[model_name],\n",
    "        cv=5,\n",
    "        scoring='f1_macro',\n",
    "        n_jobs=-1\n",
    "    )\n",
    "    grid_search.fit(X_train_vec, y_train)\n",
    "\n",
    "    best_model = grid_search.best_estimator_\n",
    "    best_models[model_name] = best_model\n",
    "\n",
    "    # Оценка на тестовой выборке\n",
    "    y_pred = best_model.predict(X_test_vec)\n",
    "    accuracy = accuracy_score(y_test, y_pred)\n",
    "    f1 = f1_score(y_test, y_pred, average='macro')\n",
    "    print(f\"Лучшие параметры для {model_name}: {grid_search.best_params_}\")\n",
    "    print(f\"f-1 для {model_name}: {f1:.4f} Accuracy: {accuracy:.4f}\")\n",
    "\n",
    "# Шаг 4: Поиск лучшей модели\n",
    "best_model_name = max(best_models, key=lambda model: f1_score(y_test, best_models[model].predict(X_test_vec), average='macro'))\n",
    "best_model = best_models[best_model_name]\n",
    "best_accuracy = accuracy_score(y_test, best_model.predict(X_test_vec))\n",
    "best_f1 = f1_score(y_test, best_model.predict(X_test_vec), average='macro')\n",
    "\n",
    "print(f\"Лучшая модель: {best_model_name} с Accuracy {best_accuracy:.4f} и f1 {best_f1:.4f}\")"
   ]
  },
  {
   "cell_type": "code",
   "execution_count": 20,
   "metadata": {
    "colab": {
     "base_uri": "https://localhost:8080/"
    },
    "id": "HxOgixpvkBFn",
    "outputId": "174270a9-d996-4474-d840-f0ef49165d93"
   },
   "outputs": [
    {
     "name": "stdout",
     "output_type": "stream",
     "text": [
      "                    precision    recall  f1-score   support\n",
      "\n",
      "     entertainment       0.55      0.43      0.48        14\n",
      "         geography       0.89      0.67      0.76        12\n",
      "            health       0.75      0.41      0.53        22\n",
      "          politics       0.80      0.80      0.80        25\n",
      "science/technology       0.61      0.72      0.66        43\n",
      "            sports       0.81      0.81      0.81        21\n",
      "            travel       0.39      0.52      0.44        23\n",
      "\n",
      "          accuracy                           0.64       160\n",
      "         macro avg       0.68      0.62      0.64       160\n",
      "      weighted avg       0.67      0.64      0.64       160\n",
      "\n"
     ]
    }
   ],
   "source": [
    "y_pred = best_model.predict(X_test_vec)\n",
    "print(classification_report(y_true=y_test, y_pred=y_pred, target_names=classes_list))"
   ]
  },
  {
   "attachments": {
    "image.png": {
     "image/png": "[encoded data removed]"
    }
   },
   "cell_type": "markdown",
   "metadata": {},
   "source": [
    "орига, на lg модели\n",
    "\n",
    "![image.png](attachment:image.png)"
   ]
  },
  {
   "cell_type": "markdown",
   "metadata": {},
   "source": []
  },
  {
   "attachments": {
    "image.png": {
     "image/png": "[encoded data removed]"
    }
   },
   "cell_type": "markdown",
   "metadata": {},
   "source": [
    "lg + пониженный df\n",
    "\n",
    "![image.png](attachment:image.png)"
   ]
  },
  {
   "cell_type": "markdown",
   "metadata": {},
   "source": []
  },
  {
   "cell_type": "code",
   "execution_count": 22,
   "metadata": {},
   "outputs": [
    {
     "ename": "ValueError",
     "evalue": "not enough values to unpack (expected 4, got 3)",
     "output_type": "error",
     "traceback": [
      "\u001b[1;31m---------------------------------------------------------------------------\u001b[0m",
      "\u001b[1;31mValueError\u001b[0m                                Traceback (most recent call last)",
      "Cell \u001b[1;32mIn[22], line 11\u001b[0m\n\u001b[0;32m      8\u001b[0m     \u001b[38;5;28;01mreturn\u001b[39;00m \u001b[38;5;124m'\u001b[39m\u001b[38;5;124m \u001b[39m\u001b[38;5;124m'\u001b[39m\u001b[38;5;241m.\u001b[39mjoin([token\u001b[38;5;241m.\u001b[39mlemma_ \u001b[38;5;28;01mfor\u001b[39;00m token \u001b[38;5;129;01min\u001b[39;00m doc \u001b[38;5;28;01mif\u001b[39;00m \u001b[38;5;129;01mnot\u001b[39;00m token\u001b[38;5;241m.\u001b[39mis_stop \u001b[38;5;129;01mand\u001b[39;00m \u001b[38;5;129;01mnot\u001b[39;00m token\u001b[38;5;241m.\u001b[39mis_punct])\n\u001b[0;32m     10\u001b[0m \u001b[38;5;66;03m# Load dataset\u001b[39;00m\n\u001b[1;32m---> 11\u001b[0m train_data, val_data, test_data, classes_list \u001b[38;5;241m=\u001b[39m load_sib200_ru()\n\u001b[0;32m     12\u001b[0m \u001b[38;5;66;03m# label_encoder = LabelEncoder()\u001b[39;00m\n\u001b[0;32m     13\u001b[0m \u001b[38;5;66;03m# y_train = label_encoder.fit_transform(train_data[1])\u001b[39;00m\n\u001b[0;32m     14\u001b[0m \u001b[38;5;66;03m# y_test = label_encoder.transform(test_data[1])\u001b[39;00m\n\u001b[1;32m   (...)\u001b[0m\n\u001b[0;32m     19\u001b[0m \n\u001b[0;32m     20\u001b[0m \u001b[38;5;66;03m# Class probability based max_df adjustment\u001b[39;00m\n\u001b[0;32m     21\u001b[0m class_probability \u001b[38;5;241m=\u001b[39m \u001b[38;5;241m1.0\u001b[39m \u001b[38;5;241m/\u001b[39m \u001b[38;5;28mlen\u001b[39m(classes_list)\n",
      "\u001b[1;31mValueError\u001b[0m: not enough values to unpack (expected 4, got 3)"
     ]
    }
   ],
   "source": [
    "from sklearn.neural_network import MLPClassifier\n",
    "# def normalize_text(text, nlp_model):\n",
    "#     doc = nlp_model(text)\n",
    "#     return ' '.join([token.lemma_ for token in doc if not token.is_stop and not token.is_punct])\n",
    "\n",
    "def normalize_text(text, nlp_model):\n",
    "    doc = nlp_model(text)\n",
    "    return ' '.join([token.lemma_ for token in doc if not token.is_stop and not token.is_punct])\n",
    "\n",
    "# Load dataset\n",
    "train_data, val_data, test_data, classes_list = load_sib200_ru()\n",
    "# label_encoder = LabelEncoder()\n",
    "# y_train = label_encoder.fit_transform(train_data[1])\n",
    "# y_test = label_encoder.transform(test_data[1])\n",
    "\n",
    "# Compute class weights to deal with class imbalance\n",
    "# class_weights = compute_class_weight('balanced', classes=np.unique(y_train), y=y_train)\n",
    "# class_weights_dict = {i: class_weights[i] for i in range(len(class_weights))}\n",
    "\n",
    "# Class probability based max_df adjustment\n",
    "class_probability = 1.0 / len(classes_list)\n",
    "max_df = 1.0 - 0.2 * class_probability\n",
    "print(f'Maximal document frequency of term is {max_df}.')\n",
    "\n",
    "stop_words_list = list(nlp.Defaults.stop_words)\n",
    "\n",
    "\n",
    "class_weights = compute_class_weight('balanced', classes=np.unique(y_train), y=y_train)\n",
    "class_weights_dict = {i: class_weights[i] for i in range(len(class_weights))}\n",
    "\n",
    "\n",
    "classifier = Pipeline(steps=[\n",
    "    ('vectorizer', TfidfVectorizer(token_pattern='\\w+', max_df=max_df, min_df=1, ngram_range=(1, 1), max_features=30000)),\n",
    "    ('cls', MLPClassifier(max_iter=300))  # Base MLP with 1 hidden layer\n",
    "])\n",
    "\n",
    "# Grid Search for hyperparameter tuning\n",
    "cv = GridSearchCV(\n",
    "    estimator=classifier,\n",
    "    param_grid={\n",
    "\n",
    "        'cls__alpha': [0.001, 0.01, 0,1],  # L2 penalty (regularization)\n",
    "        'cls__learning_rate_init': [ 0.01],  # Initial learning rate\n",
    "    },\n",
    "    scoring='f1_macro',  # Optimize for F1 macro to balance precision and recall\n",
    "    cv=5,\n",
    "    refit=True,\n",
    "    n_jobs=-1,\n",
    "    verbose=True\n",
    ")\n",
    "\n",
    "\n",
    "# Training the model\n",
    "\n",
    "cv.fit([normalize_text(it, nlp) for it in train_data[0]], LE.fit_transform(train_data[1]))\n",
    "print('Best parameters:')\n",
    "print(cv.best_params_)\n",
    "\n",
    "print(cv.best_score_)\n",
    "\n",
    "# Predictions on the test set\n",
    "y_pred = cv.predict([normalize_text(it, nlp) for it in test_data[0]])\n",
    "# vectorizer = TfidfVectorizer()\n",
    "# vectorizer.fit([normalize_text(it, nlp) for it in train_data[0]])\n",
    "# print(f'Lenght of dictionary: {len(sorted(vectorizer.vocabulary_))}')\n",
    "\n",
    "\n",
    "# X = vectorizer.transform([normalize_text(it, nlp) for it in train_data[0]])\n",
    "\n",
    "LE = LabelEncoder()\n",
    "y = LE.fit_transform(train_data[1])\n",
    "# clf = MLPClassifier(random_state=0, alpha=0.1).fit(X, y)\n",
    "\n",
    "\n",
    "# # test_text_normalized = test_data[0].apply(normalize_text)\n",
    "# X_test = vectorizer.transform([normalize_text(it, nlp) for it in test_data[0]])\n",
    "y_test = LE.transform(test_data[1])\n",
    "\n",
    "# Report performance\n",
    "print(classification_report(LE.transform(test_data[1]), y_pred, target_names=classes_list))\n",
    "f1 = f1_score(y_test, y_pred, average='macro', zero_division=0)\n",
    "print(f'Scores is \\nACC:\\nF1M: {f1:.3f}')"
   ]
  },
  {
   "cell_type": "code",
   "execution_count": null,
   "metadata": {},
   "outputs": [],
   "source": []
  }
 ],
 "metadata": {
  "colab": {
   "provenance": []
  },
  "kernelspec": {
   "display_name": ".venv",
   "language": "python",
   "name": "python3"
  },
  "language_info": {
   "codemirror_mode": {
    "name": "ipython",
    "version": 3
   },
   "file_extension": ".py",
   "mimetype": "text/x-python",
   "name": "python",
   "nbconvert_exporter": "python",
   "pygments_lexer": "ipython3",
   "version": "3.12.3"
  }
 },
 "nbformat": 4,
 "nbformat_minor": 0
}
